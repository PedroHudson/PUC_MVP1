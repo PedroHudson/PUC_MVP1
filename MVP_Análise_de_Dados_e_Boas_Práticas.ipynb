{
  "nbformat": 4,
  "nbformat_minor": 0,
  "metadata": {
    "colab": {
      "provenance": [],
      "authorship_tag": "ABX9TyOLrr6k9WXEg25WrVb4TKgj",
      "include_colab_link": true
    },
    "kernelspec": {
      "name": "python3",
      "display_name": "Python 3"
    },
    "language_info": {
      "name": "python"
    }
  },
  "cells": [
    {
      "cell_type": "markdown",
      "metadata": {
        "id": "view-in-github",
        "colab_type": "text"
      },
      "source": [
        "<a href=\"https://colab.research.google.com/github/PedroHudson/PUC_MVP1/blob/main/MVP_An%C3%A1lise_de_Dados_e_Boas_Pr%C3%A1ticas.ipynb\" target=\"_parent\"><img src=\"https://colab.research.google.com/assets/colab-badge.svg\" alt=\"Open In Colab\"/></a>"
      ]
    },
    {
      "cell_type": "markdown",
      "source": [
        "**MVP - Análise de Dados e Boas Práticas**\n"
      ],
      "metadata": {
        "id": "zfVB8fn8fmod"
      }
    },
    {
      "cell_type": "markdown",
      "source": [
        "**1. Definiçao do Problema.**"
      ],
      "metadata": {
        "id": "RmwMVx3_hqeR"
      }
    },
    {
      "cell_type": "markdown",
      "source": [
        "Esse projeto visa analisar a arrecadaçao da Uniao Federal referente ao IPI (Imposto sobre Produtos Industrializados), no período de Janeiro/2000 a Fevereiro/2023. A análise será centrada em 3 categorias do imposto, IPI - Fumo, IPI - Bebidas e IPI - Automóveis, iremos focar nos estados que compoe a regiao sudeste do país, que juntos geram a maior arrecadacao da Uniao.\n",
        "Para isso utilizaremos os dados disponíveis do Portal de Dados Abertos do Governo Federal.  "
      ],
      "metadata": {
        "id": "loz2ZBm2h6t8"
      }
    },
    {
      "cell_type": "markdown",
      "source": [
        "**2. Importacao das Bibliotecas e Configuracoes para nao receber Warnings, para Transformacoes Númericas e Categóricas.**"
      ],
      "metadata": {
        "id": "Ki8cZR8zlNxt"
      }
    },
    {
      "cell_type": "code",
      "source": [
        "# Importacao do Pandas\n",
        "import pandas as pd\n",
        "\n",
        "# Importacao do Numpy\n",
        "import numpy as np\n",
        "\n",
        "# Importacao do Pyplot\n",
        "import matplotlib.pyplot as plt\n",
        "\n",
        "# Importacao de pacotes Matplotlib\n",
        "from matplotlib import cm\n",
        "\n",
        "# Importacao do Seaborn\n",
        "import seaborn as sns\n",
        "\n",
        "# Importacao do MissingNo para tratamento de missings\n",
        "import missingno as ms \n",
        "\n",
        "# Transformacoes Númericas\n",
        "\n",
        "# Normalizacao\n",
        "from sklearn.preprocessing import MinMaxScaler \n",
        "\n",
        "# Padronizacao\n",
        "from sklearn.preprocessing import StandardScaler\n",
        "\n",
        "# Transformacoes Categóricas\n",
        "from sklearn.preprocessing import OneHotEncoder\n",
        "from sklearn.preprocessing import OrdinalEncoder\n",
        "\n",
        "# Configuracao para nao exibir Warnings\n",
        "import warnings\n",
        "warnings.filterwarnings('ignore')"
      ],
      "metadata": {
        "id": "eXeOg4rAlZud"
      },
      "execution_count": 1,
      "outputs": []
    },
    {
      "cell_type": "markdown",
      "source": [
        "**3. Importacao do Dataset.**"
      ],
      "metadata": {
        "id": "LGQ73b_RsXR2"
      }
    },
    {
      "cell_type": "code",
      "source": [
        "# Importando dados da url para um dataframe\n",
        "\n",
        "# url a importar\n",
        "url_dados = 'https://www.gov.br/receitafederal/dados/arrecadacao-estado.csv?raw=true'\n",
        "\n",
        "# carga do dataset através da url\n",
        "ipi = pd.read_csv(url_dados, sep=';', encoding='ISO-8859-1',decimal=',')"
      ],
      "metadata": {
        "id": "4YffB0fprt-K"
      },
      "execution_count": 2,
      "outputs": []
    },
    {
      "cell_type": "markdown",
      "source": [
        "**4. Análise Exploratória - Primeiras Análises.**"
      ],
      "metadata": {
        "id": "mhEUwUYguGzk"
      }
    },
    {
      "cell_type": "code",
      "source": [
        "# Visualizacao da quantidade de instancias e atributos do dataset\n",
        "ipi.shape"
      ],
      "metadata": {
        "colab": {
          "base_uri": "https://localhost:8080/"
        },
        "id": "YBUFxuvZuPn0",
        "outputId": "621ef13a-0745-4127-f162-6ae4d428af9a"
      },
      "execution_count": 3,
      "outputs": [
        {
          "output_type": "execute_result",
          "data": {
            "text/plain": [
              "(7506, 45)"
            ]
          },
          "metadata": {},
          "execution_count": 3
        }
      ]
    },
    {
      "cell_type": "code",
      "source": [
        "# Visualizacao da quantidade de linhas por coluna\n",
        "ipi.count()"
      ],
      "metadata": {
        "colab": {
          "base_uri": "https://localhost:8080/"
        },
        "id": "tYjGzDasu_sn",
        "outputId": "c449473d-94ab-475e-ceec-97aedc45d75d"
      },
      "execution_count": 4,
      "outputs": [
        {
          "output_type": "execute_result",
          "data": {
            "text/plain": [
              "Ano                                                             7506\n",
              "Mês                                                             7506\n",
              "UF                                                              7506\n",
              "IMPOSTO SOBRE IMPORTAÇÃO                                        7506\n",
              "IMPOSTO SOBRE EXPORTAÇÃO                                        7506\n",
              "IPI - FUMO                                                      7506\n",
              "IPI - BEBIDAS                                                   7506\n",
              "IPI - AUTOMÓVEIS                                                7506\n",
              "IPI - VINCULADO À IMPORTACAO                                    7506\n",
              "IPI - OUTROS                                                    7506\n",
              "IRPF                                                            7506\n",
              "IRPJ - ENTIDADES FINANCEIRAS                                    7506\n",
              "IRPJ - DEMAIS EMPRESAS                                          7506\n",
              "IRRF - RENDIMENTOS DO TRABALHO                                  7506\n",
              "IRRF - RENDIMENTOS DO CAPITAL                                   7506\n",
              "IRRF - REMESSAS P/ EXTERIOR                                     7506\n",
              "IRRF - OUTROS RENDIMENTOS                                       7506\n",
              "IMPOSTO S/ OPERAÇÕES FINANCEIRAS                                7506\n",
              "IMPOSTO TERRITORIAL RURAL                                       7506\n",
              "IMPOSTO PROVIS.S/ MOVIMENT. FINANC. - IPMF                       648\n",
              "CPMF                                                            3996\n",
              "COFINS                                                          1296\n",
              "COFINS - FINANCEIRAS                                            6210\n",
              "COFINS - DEMAIS                                                 6210\n",
              "CONTRIBUIÇÃO PARA O PIS/PASEP                                   1296\n",
              "CONTRIBUIÇÃO PARA O PIS/PASEP - FINANCEIRAS                     6210\n",
              "CONTRIBUIÇÃO PARA O PIS/PASEP - DEMAIS                          6210\n",
              "CSLL                                                            1296\n",
              "CSLL - FINANCEIRAS                                              6210\n",
              "CSLL - DEMAIS                                                   6210\n",
              "CIDE-COMBUSTÍVEIS (parc. não dedutível)                          324\n",
              "CIDE-COMBUSTÍVEIS                                               5886\n",
              "CONTRIBUIÇÃO PLANO SEG. SOC. SERVIDORES                         1296\n",
              "CPSSS - Contrib. p/ o Plano de Segurid. Social Serv. Público    4050\n",
              "CONTRIBUICÕES PARA FUNDAF                                       4860\n",
              "REFIS                                                            324\n",
              "PAES                                                             324\n",
              "RETENÇÃO NA FONTE - LEI 10.833, Art. 30                          270\n",
              "PAGAMENTO UNIFICADO                                              378\n",
              "OUTRAS RECEITAS ADMINISTRADAS                                   7506\n",
              "DEMAIS RECEITAS                                                 2160\n",
              "RECEITA PREVIDENCIÁRIA                                          1944\n",
              "RECEITA PREVIDENCIÁRIA - PRÓPRIA                                1431\n",
              "RECEITA PREVIDENCIÁRIA - DEMAIS                                 1431\n",
              "ADMINISTRADAS POR OUTROS ÓRGÃOS                                 4050\n",
              "dtype: int64"
            ]
          },
          "metadata": {},
          "execution_count": 4
        }
      ]
    },
    {
      "cell_type": "markdown",
      "source": [
        "Observa-se que os itens que serao o foco da análise tem a mesma quantidade de linhas (IPI - Fumo, IPI - Bebidas e IPI - Automóveis)."
      ],
      "metadata": {
        "id": "31CH_Eliv-Bf"
      }
    },
    {
      "cell_type": "code",
      "source": [
        "# Visualizacao dos tipos de dados \n",
        "ipi.dtypes"
      ],
      "metadata": {
        "colab": {
          "base_uri": "https://localhost:8080/"
        },
        "id": "yNLwiiVgvVtP",
        "outputId": "2bf865ce-405b-44bc-a910-ca4c0f840ac4"
      },
      "execution_count": 5,
      "outputs": [
        {
          "output_type": "execute_result",
          "data": {
            "text/plain": [
              "Ano                                                               int64\n",
              "Mês                                                              object\n",
              "UF                                                               object\n",
              "IMPOSTO SOBRE IMPORTAÇÃO                                         object\n",
              "IMPOSTO SOBRE EXPORTAÇÃO                                         object\n",
              "IPI - FUMO                                                       object\n",
              "IPI - BEBIDAS                                                    object\n",
              "IPI - AUTOMÓVEIS                                                 object\n",
              "IPI - VINCULADO À IMPORTACAO                                     object\n",
              "IPI - OUTROS                                                     object\n",
              "IRPF                                                             object\n",
              "IRPJ - ENTIDADES FINANCEIRAS                                     object\n",
              "IRPJ - DEMAIS EMPRESAS                                           object\n",
              "IRRF - RENDIMENTOS DO TRABALHO                                   object\n",
              "IRRF - RENDIMENTOS DO CAPITAL                                    object\n",
              "IRRF - REMESSAS P/ EXTERIOR                                      object\n",
              "IRRF - OUTROS RENDIMENTOS                                        object\n",
              "IMPOSTO S/ OPERAÇÕES FINANCEIRAS                                 object\n",
              "IMPOSTO TERRITORIAL RURAL                                        object\n",
              "IMPOSTO PROVIS.S/ MOVIMENT. FINANC. - IPMF                      float64\n",
              "CPMF                                                             object\n",
              "COFINS                                                           object\n",
              "COFINS - FINANCEIRAS                                            float64\n",
              "COFINS - DEMAIS                                                 float64\n",
              "CONTRIBUIÇÃO PARA O PIS/PASEP                                    object\n",
              "CONTRIBUIÇÃO PARA O PIS/PASEP - FINANCEIRAS                     float64\n",
              "CONTRIBUIÇÃO PARA O PIS/PASEP - DEMAIS                          float64\n",
              "CSLL                                                             object\n",
              "CSLL - FINANCEIRAS                                              float64\n",
              "CSLL - DEMAIS                                                   float64\n",
              "CIDE-COMBUSTÍVEIS (parc. não dedutível)                         float64\n",
              "CIDE-COMBUSTÍVEIS                                               float64\n",
              "CONTRIBUIÇÃO PLANO SEG. SOC. SERVIDORES                          object\n",
              "CPSSS - Contrib. p/ o Plano de Segurid. Social Serv. Público    float64\n",
              "CONTRIBUICÕES PARA FUNDAF                                        object\n",
              "REFIS                                                           float64\n",
              "PAES                                                            float64\n",
              "RETENÇÃO NA FONTE - LEI 10.833, Art. 30                         float64\n",
              "PAGAMENTO UNIFICADO                                             float64\n",
              "OUTRAS RECEITAS ADMINISTRADAS                                    object\n",
              "DEMAIS RECEITAS                                                 float64\n",
              "RECEITA PREVIDENCIÁRIA                                          float64\n",
              "RECEITA PREVIDENCIÁRIA - PRÓPRIA                                float64\n",
              "RECEITA PREVIDENCIÁRIA - DEMAIS                                 float64\n",
              "ADMINISTRADAS POR OUTROS ÓRGÃOS                                 float64\n",
              "dtype: object"
            ]
          },
          "metadata": {},
          "execution_count": 5
        }
      ]
    },
    {
      "cell_type": "markdown",
      "source": [
        "Com a visualizacao dos tipos de dados por atributo verificou-se que os itens que serao analisados estao classificados como tipo Object, portanto sera necessario fazer um tratamento para a transformacao dos dados em tipo Inteiro (int), permitindo assim a realizacao e visualizacao de um resumo estatistico dos atributos com valores numéricos."
      ],
      "metadata": {
        "id": "yPj55eUqwqGP"
      }
    },
    {
      "cell_type": "markdown",
      "source": [
        "**5. Criacao do Dataframe a ser analisado, primeiras visualizacoes de dados.**"
      ],
      "metadata": {
        "id": "LBFYj5s92fHI"
      }
    },
    {
      "cell_type": "code",
      "source": [
        "# Selecao das colunas para a criacao do novo dataframe\n",
        "ipi_cols = ipi[['Ano', 'Mês', 'UF', 'IPI - FUMO', 'IPI - BEBIDAS', 'IPI - AUTOMÓVEIS']]\n",
        "\n",
        "# Criacao de variável para a selecao dos Estados a serem analisados\n",
        "sudeste = ['ES', 'MG', 'RJ', 'SP']\n",
        "\n",
        "# Criacao do novo Dataframe \n",
        "ipi_sud = ipi_cols[ipi_cols['UF'].isin(sudeste)]\n"
      ],
      "metadata": {
        "id": "dZgZ6gI23vAu"
      },
      "execution_count": 6,
      "outputs": []
    },
    {
      "cell_type": "code",
      "source": [
        "# Visualizacao da quantidade de instancias e atributos do novo dataframe\n",
        "ipi_sud.shape"
      ],
      "metadata": {
        "colab": {
          "base_uri": "https://localhost:8080/"
        },
        "id": "BDkEJyhd6Q7C",
        "outputId": "53af4de3-a55b-46a6-a3a9-fcd00d738f11"
      },
      "execution_count": 7,
      "outputs": [
        {
          "output_type": "execute_result",
          "data": {
            "text/plain": [
              "(1112, 6)"
            ]
          },
          "metadata": {},
          "execution_count": 7
        }
      ]
    },
    {
      "cell_type": "code",
      "source": [
        "# Visualizacao dos tipos de dados do novo dataframe\n",
        "ipi_sud.dtypes"
      ],
      "metadata": {
        "colab": {
          "base_uri": "https://localhost:8080/"
        },
        "id": "xZtdukGM6zLA",
        "outputId": "3bf0a502-f5be-43b0-cc3e-d577ba793471"
      },
      "execution_count": 8,
      "outputs": [
        {
          "output_type": "execute_result",
          "data": {
            "text/plain": [
              "Ano                  int64\n",
              "Mês                 object\n",
              "UF                  object\n",
              "IPI - FUMO          object\n",
              "IPI - BEBIDAS       object\n",
              "IPI - AUTOMÓVEIS    object\n",
              "dtype: object"
            ]
          },
          "metadata": {},
          "execution_count": 8
        }
      ]
    },
    {
      "cell_type": "markdown",
      "source": [
        "**6. Pré-processamento - Transformacoes dos dados.**"
      ],
      "metadata": {
        "id": "W6bv5oO27dk_"
      }
    },
    {
      "cell_type": "code",
      "source": [
        "# Transformacao dos dados da coluna IPI - FUMO em Inteiro(int)\n",
        "ipi_sud['IPI - FUMO']=ipi_sud['IPI - FUMO'].str.replace(',','').astype(int)"
      ],
      "metadata": {
        "id": "B21V84cY7sLh"
      },
      "execution_count": 9,
      "outputs": []
    },
    {
      "cell_type": "code",
      "source": [
        "# Transformacao dos dados da coluna IPI - BEBIDAS em Inteiro(int)\n",
        "ipi_sud['IPI - BEBIDAS']=ipi_sud['IPI - BEBIDAS'].str.replace(',','').astype(int)"
      ],
      "metadata": {
        "id": "98tHR5fJ8pN2"
      },
      "execution_count": 10,
      "outputs": []
    },
    {
      "cell_type": "code",
      "source": [
        "# Transformacao dos dados da "
      ],
      "metadata": {
        "id": "UNmZebVX8_Dt"
      },
      "execution_count": null,
      "outputs": []
    }
  ]
}