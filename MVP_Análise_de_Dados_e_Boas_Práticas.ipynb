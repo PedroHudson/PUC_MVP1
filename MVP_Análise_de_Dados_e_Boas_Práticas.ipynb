{
  "nbformat": 4,
  "nbformat_minor": 0,
  "metadata": {
    "colab": {
      "provenance": [],
      "authorship_tag": "ABX9TyPeP5eNqbw6B1Iac2qoubrw",
      "include_colab_link": true
    },
    "kernelspec": {
      "name": "python3",
      "display_name": "Python 3"
    },
    "language_info": {
      "name": "python"
    }
  },
  "cells": [
    {
      "cell_type": "markdown",
      "metadata": {
        "id": "view-in-github",
        "colab_type": "text"
      },
      "source": [
        "<a href=\"https://colab.research.google.com/github/PedroHudson/PUC_MVP1/blob/main/MVP_An%C3%A1lise_de_Dados_e_Boas_Pr%C3%A1ticas.ipynb\" target=\"_parent\"><img src=\"https://colab.research.google.com/assets/colab-badge.svg\" alt=\"Open In Colab\"/></a>"
      ]
    },
    {
      "cell_type": "markdown",
      "source": [
        "**MVP - Análise de Dados e Boas Práticas**\n"
      ],
      "metadata": {
        "id": "zfVB8fn8fmod"
      }
    },
    {
      "cell_type": "markdown",
      "source": [
        "**1. Definiçao do Problema.**"
      ],
      "metadata": {
        "id": "RmwMVx3_hqeR"
      }
    },
    {
      "cell_type": "markdown",
      "source": [
        "Esse projeto visa analisar a arrecadaçao da Uniao Federal referente ao IPI (Imposto sobre Produtos Industrializados), no período de janeiro/2000 a fevereiro/2023. \n",
        "\n",
        "O IPI é um tributo federal, a competencia da arrecadacao é da Uniao, que pode altera-lo quando necessario para o controle da economia nacional.\n",
        "\n",
        "O Imposto sobre Produtos Industrializados tem como seus objetivos: impulsionar a competitividade dos produtos brasileiros no mercado internacional atraves da reducao dos custos da producao, regular o mercado por meio de alteracoes de alíquotas para aquecer a economia e incentivar ou desencorajar a populacao a consumir itens de determinado setor.  \n",
        "\n",
        " Ele incide sobre produtos industrializados, sejam eles nacionais ou importados, no entanto, o percentual do imposto tem variacao de acordo com a mercadoria. \n",
        "\n",
        "Para fins de impostos, sao considerados produtos industrializados aqueles que passam por qualquer procedimento que altere a natureza do produto, bem como seu funcionamento, acabamento e apresentacao. Alem disso, o imposto ainda se aplica a finalidade do produto e o seu aperfeicoamento para fins de consumo.\n",
        "\n",
        "A análise do projeto será centrada em 3 categorias do imposto, IPI - Fumo, IPI - Bebidas e IPI - Automóveis, e iremos focar nos estados que compoe a regiao sudeste do país, que juntos geram a maior arrecadacao do Tesouro Nacional.\n",
        "\n",
        "Para isso utilizaremos os dados disponíveis do Portal de Dados Abertos do Governo Federal.  "
      ],
      "metadata": {
        "id": "loz2ZBm2h6t8"
      }
    },
    {
      "cell_type": "markdown",
      "source": [
        "**2. Importacao das Bibliotecas e Configuracoes para nao receber Warnings, para Transformacoes Númericas e Categóricas.**"
      ],
      "metadata": {
        "id": "Ki8cZR8zlNxt"
      }
    },
    {
      "cell_type": "code",
      "source": [
        "# Importacao do Pandas\n",
        "import pandas as pd\n",
        "\n",
        "# Importacao do Numpy\n",
        "import numpy as np\n",
        "\n",
        "# Importacao do Pyplot\n",
        "import matplotlib.pyplot as plt\n",
        "\n",
        "# Importacao de pacotes Matplotlib\n",
        "from matplotlib import cm\n",
        "\n",
        "# Importacao do Seaborn\n",
        "import seaborn as sns\n",
        "\n",
        "# Importacao do MissingNo para tratamento de missings\n",
        "import missingno as ms \n",
        "\n",
        "# Transformacoes Númericas\n",
        "\n",
        "# Normalizacao\n",
        "from sklearn.preprocessing import MinMaxScaler \n",
        "\n",
        "# Padronizacao\n",
        "from sklearn.preprocessing import StandardScaler\n",
        "\n",
        "# Transformacoes Categóricas\n",
        "from sklearn.preprocessing import OneHotEncoder\n",
        "from sklearn.preprocessing import OrdinalEncoder\n",
        "\n",
        "# Configuracao para nao exibir Warnings\n",
        "import warnings\n",
        "warnings.filterwarnings('ignore')"
      ],
      "metadata": {
        "id": "eXeOg4rAlZud"
      },
      "execution_count": 1,
      "outputs": []
    },
    {
      "cell_type": "markdown",
      "source": [
        "**3. Importacao do Dataset.**"
      ],
      "metadata": {
        "id": "LGQ73b_RsXR2"
      }
    },
    {
      "cell_type": "code",
      "source": [
        "# Importando dados da url para um dataframe\n",
        "\n",
        "# url a importar\n",
        "url_dados = 'https://www.gov.br/receitafederal/dados/arrecadacao-estado.csv?raw=true'\n",
        "\n",
        "# carga do dataset através da url\n",
        "ipi = pd.read_csv(url_dados, sep=';', encoding='ISO-8859-1',decimal=',')"
      ],
      "metadata": {
        "id": "4YffB0fprt-K"
      },
      "execution_count": 2,
      "outputs": []
    },
    {
      "cell_type": "markdown",
      "source": [
        "**4. Análise Exploratória - Primeiras Análises.**"
      ],
      "metadata": {
        "id": "mhEUwUYguGzk"
      }
    },
    {
      "cell_type": "code",
      "source": [
        "# Visualizacao da quantidade de instancias e atributos do dataset\n",
        "ipi.shape"
      ],
      "metadata": {
        "colab": {
          "base_uri": "https://localhost:8080/"
        },
        "id": "YBUFxuvZuPn0",
        "outputId": "259e5e06-3736-411d-ce16-9e7074f7e688"
      },
      "execution_count": 3,
      "outputs": [
        {
          "output_type": "execute_result",
          "data": {
            "text/plain": [
              "(7506, 45)"
            ]
          },
          "metadata": {},
          "execution_count": 3
        }
      ]
    },
    {
      "cell_type": "code",
      "source": [
        "# Visualizacao da quantidade de linhas por coluna\n",
        "ipi.count()"
      ],
      "metadata": {
        "colab": {
          "base_uri": "https://localhost:8080/"
        },
        "id": "tYjGzDasu_sn",
        "outputId": "b5c7b56c-e57f-4986-c271-ccef096ec7ed"
      },
      "execution_count": 4,
      "outputs": [
        {
          "output_type": "execute_result",
          "data": {
            "text/plain": [
              "Ano                                                             7506\n",
              "Mês                                                             7506\n",
              "UF                                                              7506\n",
              "IMPOSTO SOBRE IMPORTAÇÃO                                        7506\n",
              "IMPOSTO SOBRE EXPORTAÇÃO                                        7506\n",
              "IPI - FUMO                                                      7506\n",
              "IPI - BEBIDAS                                                   7506\n",
              "IPI - AUTOMÓVEIS                                                7506\n",
              "IPI - VINCULADO À IMPORTACAO                                    7506\n",
              "IPI - OUTROS                                                    7506\n",
              "IRPF                                                            7506\n",
              "IRPJ - ENTIDADES FINANCEIRAS                                    7506\n",
              "IRPJ - DEMAIS EMPRESAS                                          7506\n",
              "IRRF - RENDIMENTOS DO TRABALHO                                  7506\n",
              "IRRF - RENDIMENTOS DO CAPITAL                                   7506\n",
              "IRRF - REMESSAS P/ EXTERIOR                                     7506\n",
              "IRRF - OUTROS RENDIMENTOS                                       7506\n",
              "IMPOSTO S/ OPERAÇÕES FINANCEIRAS                                7506\n",
              "IMPOSTO TERRITORIAL RURAL                                       7506\n",
              "IMPOSTO PROVIS.S/ MOVIMENT. FINANC. - IPMF                       648\n",
              "CPMF                                                            3996\n",
              "COFINS                                                          1296\n",
              "COFINS - FINANCEIRAS                                            6210\n",
              "COFINS - DEMAIS                                                 6210\n",
              "CONTRIBUIÇÃO PARA O PIS/PASEP                                   1296\n",
              "CONTRIBUIÇÃO PARA O PIS/PASEP - FINANCEIRAS                     6210\n",
              "CONTRIBUIÇÃO PARA O PIS/PASEP - DEMAIS                          6210\n",
              "CSLL                                                            1296\n",
              "CSLL - FINANCEIRAS                                              6210\n",
              "CSLL - DEMAIS                                                   6210\n",
              "CIDE-COMBUSTÍVEIS (parc. não dedutível)                          324\n",
              "CIDE-COMBUSTÍVEIS                                               5886\n",
              "CONTRIBUIÇÃO PLANO SEG. SOC. SERVIDORES                         1296\n",
              "CPSSS - Contrib. p/ o Plano de Segurid. Social Serv. Público    4050\n",
              "CONTRIBUICÕES PARA FUNDAF                                       4860\n",
              "REFIS                                                            324\n",
              "PAES                                                             324\n",
              "RETENÇÃO NA FONTE - LEI 10.833, Art. 30                          270\n",
              "PAGAMENTO UNIFICADO                                              378\n",
              "OUTRAS RECEITAS ADMINISTRADAS                                   7506\n",
              "DEMAIS RECEITAS                                                 2160\n",
              "RECEITA PREVIDENCIÁRIA                                          1944\n",
              "RECEITA PREVIDENCIÁRIA - PRÓPRIA                                1431\n",
              "RECEITA PREVIDENCIÁRIA - DEMAIS                                 1431\n",
              "ADMINISTRADAS POR OUTROS ÓRGÃOS                                 4050\n",
              "dtype: int64"
            ]
          },
          "metadata": {},
          "execution_count": 4
        }
      ]
    },
    {
      "cell_type": "markdown",
      "source": [
        "*Observa-se que os itens que serao o foco da análise tem a mesma quantidade de linhas (IPI - Fumo, IPI - Bebidas e IPI - Automóveis).*"
      ],
      "metadata": {
        "id": "31CH_Eliv-Bf"
      }
    },
    {
      "cell_type": "code",
      "source": [
        "# Visualizacao dos tipos de dados \n",
        "ipi.dtypes"
      ],
      "metadata": {
        "colab": {
          "base_uri": "https://localhost:8080/"
        },
        "id": "yNLwiiVgvVtP",
        "outputId": "def26775-c842-42f9-ba8a-da9c96618441"
      },
      "execution_count": 5,
      "outputs": [
        {
          "output_type": "execute_result",
          "data": {
            "text/plain": [
              "Ano                                                               int64\n",
              "Mês                                                              object\n",
              "UF                                                               object\n",
              "IMPOSTO SOBRE IMPORTAÇÃO                                         object\n",
              "IMPOSTO SOBRE EXPORTAÇÃO                                         object\n",
              "IPI - FUMO                                                       object\n",
              "IPI - BEBIDAS                                                    object\n",
              "IPI - AUTOMÓVEIS                                                 object\n",
              "IPI - VINCULADO À IMPORTACAO                                     object\n",
              "IPI - OUTROS                                                     object\n",
              "IRPF                                                             object\n",
              "IRPJ - ENTIDADES FINANCEIRAS                                     object\n",
              "IRPJ - DEMAIS EMPRESAS                                           object\n",
              "IRRF - RENDIMENTOS DO TRABALHO                                   object\n",
              "IRRF - RENDIMENTOS DO CAPITAL                                    object\n",
              "IRRF - REMESSAS P/ EXTERIOR                                      object\n",
              "IRRF - OUTROS RENDIMENTOS                                        object\n",
              "IMPOSTO S/ OPERAÇÕES FINANCEIRAS                                 object\n",
              "IMPOSTO TERRITORIAL RURAL                                        object\n",
              "IMPOSTO PROVIS.S/ MOVIMENT. FINANC. - IPMF                      float64\n",
              "CPMF                                                             object\n",
              "COFINS                                                           object\n",
              "COFINS - FINANCEIRAS                                            float64\n",
              "COFINS - DEMAIS                                                 float64\n",
              "CONTRIBUIÇÃO PARA O PIS/PASEP                                    object\n",
              "CONTRIBUIÇÃO PARA O PIS/PASEP - FINANCEIRAS                     float64\n",
              "CONTRIBUIÇÃO PARA O PIS/PASEP - DEMAIS                          float64\n",
              "CSLL                                                             object\n",
              "CSLL - FINANCEIRAS                                              float64\n",
              "CSLL - DEMAIS                                                   float64\n",
              "CIDE-COMBUSTÍVEIS (parc. não dedutível)                         float64\n",
              "CIDE-COMBUSTÍVEIS                                               float64\n",
              "CONTRIBUIÇÃO PLANO SEG. SOC. SERVIDORES                          object\n",
              "CPSSS - Contrib. p/ o Plano de Segurid. Social Serv. Público    float64\n",
              "CONTRIBUICÕES PARA FUNDAF                                        object\n",
              "REFIS                                                           float64\n",
              "PAES                                                            float64\n",
              "RETENÇÃO NA FONTE - LEI 10.833, Art. 30                         float64\n",
              "PAGAMENTO UNIFICADO                                             float64\n",
              "OUTRAS RECEITAS ADMINISTRADAS                                    object\n",
              "DEMAIS RECEITAS                                                 float64\n",
              "RECEITA PREVIDENCIÁRIA                                          float64\n",
              "RECEITA PREVIDENCIÁRIA - PRÓPRIA                                float64\n",
              "RECEITA PREVIDENCIÁRIA - DEMAIS                                 float64\n",
              "ADMINISTRADAS POR OUTROS ÓRGÃOS                                 float64\n",
              "dtype: object"
            ]
          },
          "metadata": {},
          "execution_count": 5
        }
      ]
    },
    {
      "cell_type": "markdown",
      "source": [
        "*Com a visualizacao dos tipos de dados por atributo verificou-se que os itens que serao analisados estao classificados como tipo Object, portanto sera necessario fazer um tratamento para a transformacao dos dados em tipo Inteiro (int), permitindo assim a realizacao e visualizacao de um resumo estatistico dos atributos com valores numéricos.*"
      ],
      "metadata": {
        "id": "yPj55eUqwqGP"
      }
    },
    {
      "cell_type": "markdown",
      "source": [
        "**5. Criacao do Dataframe a ser analisado, primeiras visualizacoes de dados.**"
      ],
      "metadata": {
        "id": "LBFYj5s92fHI"
      }
    },
    {
      "cell_type": "code",
      "source": [
        "# Selecao das colunas para a criacao do novo dataframe\n",
        "ipi_cols = ipi[['Ano', 'Mês', 'UF', 'IPI - FUMO', 'IPI - BEBIDAS', 'IPI - AUTOMÓVEIS']]\n",
        "\n",
        "# Criacao de variável para a selecao dos Estados a serem analisados\n",
        "sudeste = ['ES', 'MG', 'RJ', 'SP']\n",
        "\n",
        "# Criacao do novo dataframe \n",
        "ipi_sud = ipi_cols[ipi_cols['UF'].isin(sudeste)]\n"
      ],
      "metadata": {
        "id": "dZgZ6gI23vAu"
      },
      "execution_count": 6,
      "outputs": []
    },
    {
      "cell_type": "code",
      "source": [
        "# Visualizacao da quantidade de instancias e atributos do novo dataframe\n",
        "ipi_sud.shape"
      ],
      "metadata": {
        "colab": {
          "base_uri": "https://localhost:8080/"
        },
        "id": "BDkEJyhd6Q7C",
        "outputId": "81d6bb4b-267a-49c1-dd00-cccae65db8ee"
      },
      "execution_count": 7,
      "outputs": [
        {
          "output_type": "execute_result",
          "data": {
            "text/plain": [
              "(1112, 6)"
            ]
          },
          "metadata": {},
          "execution_count": 7
        }
      ]
    },
    {
      "cell_type": "code",
      "source": [
        "# Visualizacao dos tipos de dados do novo dataframe\n",
        "ipi_sud.dtypes"
      ],
      "metadata": {
        "colab": {
          "base_uri": "https://localhost:8080/"
        },
        "id": "xZtdukGM6zLA",
        "outputId": "87c47b9d-5c95-4107-bd40-f3f06d8fe03e"
      },
      "execution_count": 9,
      "outputs": [
        {
          "output_type": "execute_result",
          "data": {
            "text/plain": [
              "Ano                  int64\n",
              "Mês                 object\n",
              "UF                  object\n",
              "IPI - FUMO          object\n",
              "IPI - BEBIDAS       object\n",
              "IPI - AUTOMÓVEIS    object\n",
              "dtype: object"
            ]
          },
          "metadata": {},
          "execution_count": 9
        }
      ]
    },
    {
      "cell_type": "markdown",
      "source": [
        "**6. Pré-processamento - Transformacoes dos dados.**"
      ],
      "metadata": {
        "id": "W6bv5oO27dk_"
      }
    },
    {
      "cell_type": "code",
      "source": [
        "# Transformacao dos dados da coluna IPI - FUMO em Inteiro(int)\n",
        "ipi_sud['IPI - FUMO']=ipi_sud['IPI - FUMO'].str.replace(',','').astype(int)"
      ],
      "metadata": {
        "id": "B21V84cY7sLh"
      },
      "execution_count": 10,
      "outputs": []
    },
    {
      "cell_type": "code",
      "source": [
        "# Transformacao dos dados da coluna IPI - BEBIDAS em Inteiro(int)\n",
        "ipi_sud['IPI - BEBIDAS']=ipi_sud['IPI - BEBIDAS'].str.replace(',','').astype(int)"
      ],
      "metadata": {
        "id": "98tHR5fJ8pN2"
      },
      "execution_count": 11,
      "outputs": []
    },
    {
      "cell_type": "code",
      "source": [
        "# Transformacao dos dados da coluna IPI - AUTOMÓVEIS em Inteiro(int)\n",
        "ipi_sud['IPI - AUTOMÓVEIS']=ipi_sud['IPI - AUTOMÓVEIS'].str.replace(',','').astype(int)"
      ],
      "metadata": {
        "id": "UNmZebVX8_Dt"
      },
      "execution_count": 12,
      "outputs": []
    },
    {
      "cell_type": "code",
      "source": [
        "# Visualizacao dos tipos de dados apos o tratamento\n",
        "ipi_sud.dtypes"
      ],
      "metadata": {
        "colab": {
          "base_uri": "https://localhost:8080/"
        },
        "id": "Y40getuT_KCz",
        "outputId": "3f26cc9c-a0ea-4601-fde8-0633f4e002c2"
      },
      "execution_count": 13,
      "outputs": [
        {
          "output_type": "execute_result",
          "data": {
            "text/plain": [
              "Ano                  int64\n",
              "Mês                 object\n",
              "UF                  object\n",
              "IPI - FUMO           int64\n",
              "IPI - BEBIDAS        int64\n",
              "IPI - AUTOMÓVEIS     int64\n",
              "dtype: object"
            ]
          },
          "metadata": {},
          "execution_count": 13
        }
      ]
    },
    {
      "cell_type": "code",
      "source": [
        "# Visulizacao das primeiras linhas do dataframe\n",
        "ipi_sud.head()"
      ],
      "metadata": {
        "colab": {
          "base_uri": "https://localhost:8080/",
          "height": 206
        },
        "id": "F9C-Xcjj_cCH",
        "outputId": "630dadad-1e17-4cce-fc9a-5c0414e44449"
      },
      "execution_count": 14,
      "outputs": [
        {
          "output_type": "execute_result",
          "data": {
            "text/plain": [
              "     Ano        Mês  UF  IPI - FUMO  IPI - BEBIDAS  IPI - AUTOMÓVEIS\n",
              "7   2000    Janeiro  ES     3598736          20408           1503039\n",
              "10  2000    Janeiro  MG    15511142       12111623          29305691\n",
              "18  2000    Janeiro  RJ    24542326       30839175              4605\n",
              "25  2000    Janeiro  SP    61452206       53883669          49619167\n",
              "34  2000  Fevereiro  ES     3001093         136575           1664809"
            ],
            "text/html": [
              "\n",
              "  <div id=\"df-12f276cf-e5e9-4b7c-8843-25f7144cf8cc\">\n",
              "    <div class=\"colab-df-container\">\n",
              "      <div>\n",
              "<style scoped>\n",
              "    .dataframe tbody tr th:only-of-type {\n",
              "        vertical-align: middle;\n",
              "    }\n",
              "\n",
              "    .dataframe tbody tr th {\n",
              "        vertical-align: top;\n",
              "    }\n",
              "\n",
              "    .dataframe thead th {\n",
              "        text-align: right;\n",
              "    }\n",
              "</style>\n",
              "<table border=\"1\" class=\"dataframe\">\n",
              "  <thead>\n",
              "    <tr style=\"text-align: right;\">\n",
              "      <th></th>\n",
              "      <th>Ano</th>\n",
              "      <th>Mês</th>\n",
              "      <th>UF</th>\n",
              "      <th>IPI - FUMO</th>\n",
              "      <th>IPI - BEBIDAS</th>\n",
              "      <th>IPI - AUTOMÓVEIS</th>\n",
              "    </tr>\n",
              "  </thead>\n",
              "  <tbody>\n",
              "    <tr>\n",
              "      <th>7</th>\n",
              "      <td>2000</td>\n",
              "      <td>Janeiro</td>\n",
              "      <td>ES</td>\n",
              "      <td>3598736</td>\n",
              "      <td>20408</td>\n",
              "      <td>1503039</td>\n",
              "    </tr>\n",
              "    <tr>\n",
              "      <th>10</th>\n",
              "      <td>2000</td>\n",
              "      <td>Janeiro</td>\n",
              "      <td>MG</td>\n",
              "      <td>15511142</td>\n",
              "      <td>12111623</td>\n",
              "      <td>29305691</td>\n",
              "    </tr>\n",
              "    <tr>\n",
              "      <th>18</th>\n",
              "      <td>2000</td>\n",
              "      <td>Janeiro</td>\n",
              "      <td>RJ</td>\n",
              "      <td>24542326</td>\n",
              "      <td>30839175</td>\n",
              "      <td>4605</td>\n",
              "    </tr>\n",
              "    <tr>\n",
              "      <th>25</th>\n",
              "      <td>2000</td>\n",
              "      <td>Janeiro</td>\n",
              "      <td>SP</td>\n",
              "      <td>61452206</td>\n",
              "      <td>53883669</td>\n",
              "      <td>49619167</td>\n",
              "    </tr>\n",
              "    <tr>\n",
              "      <th>34</th>\n",
              "      <td>2000</td>\n",
              "      <td>Fevereiro</td>\n",
              "      <td>ES</td>\n",
              "      <td>3001093</td>\n",
              "      <td>136575</td>\n",
              "      <td>1664809</td>\n",
              "    </tr>\n",
              "  </tbody>\n",
              "</table>\n",
              "</div>\n",
              "      <button class=\"colab-df-convert\" onclick=\"convertToInteractive('df-12f276cf-e5e9-4b7c-8843-25f7144cf8cc')\"\n",
              "              title=\"Convert this dataframe to an interactive table.\"\n",
              "              style=\"display:none;\">\n",
              "        \n",
              "  <svg xmlns=\"http://www.w3.org/2000/svg\" height=\"24px\"viewBox=\"0 0 24 24\"\n",
              "       width=\"24px\">\n",
              "    <path d=\"M0 0h24v24H0V0z\" fill=\"none\"/>\n",
              "    <path d=\"M18.56 5.44l.94 2.06.94-2.06 2.06-.94-2.06-.94-.94-2.06-.94 2.06-2.06.94zm-11 1L8.5 8.5l.94-2.06 2.06-.94-2.06-.94L8.5 2.5l-.94 2.06-2.06.94zm10 10l.94 2.06.94-2.06 2.06-.94-2.06-.94-.94-2.06-.94 2.06-2.06.94z\"/><path d=\"M17.41 7.96l-1.37-1.37c-.4-.4-.92-.59-1.43-.59-.52 0-1.04.2-1.43.59L10.3 9.45l-7.72 7.72c-.78.78-.78 2.05 0 2.83L4 21.41c.39.39.9.59 1.41.59.51 0 1.02-.2 1.41-.59l7.78-7.78 2.81-2.81c.8-.78.8-2.07 0-2.86zM5.41 20L4 18.59l7.72-7.72 1.47 1.35L5.41 20z\"/>\n",
              "  </svg>\n",
              "      </button>\n",
              "      \n",
              "  <style>\n",
              "    .colab-df-container {\n",
              "      display:flex;\n",
              "      flex-wrap:wrap;\n",
              "      gap: 12px;\n",
              "    }\n",
              "\n",
              "    .colab-df-convert {\n",
              "      background-color: #E8F0FE;\n",
              "      border: none;\n",
              "      border-radius: 50%;\n",
              "      cursor: pointer;\n",
              "      display: none;\n",
              "      fill: #1967D2;\n",
              "      height: 32px;\n",
              "      padding: 0 0 0 0;\n",
              "      width: 32px;\n",
              "    }\n",
              "\n",
              "    .colab-df-convert:hover {\n",
              "      background-color: #E2EBFA;\n",
              "      box-shadow: 0px 1px 2px rgba(60, 64, 67, 0.3), 0px 1px 3px 1px rgba(60, 64, 67, 0.15);\n",
              "      fill: #174EA6;\n",
              "    }\n",
              "\n",
              "    [theme=dark] .colab-df-convert {\n",
              "      background-color: #3B4455;\n",
              "      fill: #D2E3FC;\n",
              "    }\n",
              "\n",
              "    [theme=dark] .colab-df-convert:hover {\n",
              "      background-color: #434B5C;\n",
              "      box-shadow: 0px 1px 3px 1px rgba(0, 0, 0, 0.15);\n",
              "      filter: drop-shadow(0px 1px 2px rgba(0, 0, 0, 0.3));\n",
              "      fill: #FFFFFF;\n",
              "    }\n",
              "  </style>\n",
              "\n",
              "      <script>\n",
              "        const buttonEl =\n",
              "          document.querySelector('#df-12f276cf-e5e9-4b7c-8843-25f7144cf8cc button.colab-df-convert');\n",
              "        buttonEl.style.display =\n",
              "          google.colab.kernel.accessAllowed ? 'block' : 'none';\n",
              "\n",
              "        async function convertToInteractive(key) {\n",
              "          const element = document.querySelector('#df-12f276cf-e5e9-4b7c-8843-25f7144cf8cc');\n",
              "          const dataTable =\n",
              "            await google.colab.kernel.invokeFunction('convertToInteractive',\n",
              "                                                     [key], {});\n",
              "          if (!dataTable) return;\n",
              "\n",
              "          const docLinkHtml = 'Like what you see? Visit the ' +\n",
              "            '<a target=\"_blank\" href=https://colab.research.google.com/notebooks/data_table.ipynb>data table notebook</a>'\n",
              "            + ' to learn more about interactive tables.';\n",
              "          element.innerHTML = '';\n",
              "          dataTable['output_type'] = 'display_data';\n",
              "          await google.colab.output.renderOutput(dataTable, element);\n",
              "          const docLink = document.createElement('div');\n",
              "          docLink.innerHTML = docLinkHtml;\n",
              "          element.appendChild(docLink);\n",
              "        }\n",
              "      </script>\n",
              "    </div>\n",
              "  </div>\n",
              "  "
            ]
          },
          "metadata": {},
          "execution_count": 14
        }
      ]
    },
    {
      "cell_type": "code",
      "source": [
        "# Visualizacao dos ultimas linhas do dataframe\n",
        "ipi_sud.tail()"
      ],
      "metadata": {
        "colab": {
          "base_uri": "https://localhost:8080/",
          "height": 206
        },
        "id": "QEJIjTyn_1Up",
        "outputId": "46d95a72-c46a-4f5b-c73d-97da5d52ffa2"
      },
      "execution_count": 15,
      "outputs": [
        {
          "output_type": "execute_result",
          "data": {
            "text/plain": [
              "       Ano        Mês  UF  IPI - FUMO  IPI - BEBIDAS  IPI - AUTOMÓVEIS\n",
              "7477  2023    Janeiro  SP   232898116     5338086958        1008136269\n",
              "7486  2023  Fevereiro  ES           0      186639518        1532793326\n",
              "7489  2023  Fevereiro  MG     8229438     3841961392           1139093\n",
              "7497  2023  Fevereiro  RJ    59746464     1569760355        1765789276\n",
              "7504  2023  Fevereiro  SP   201563864     3814353816        1363010272"
            ],
            "text/html": [
              "\n",
              "  <div id=\"df-d7b59dd7-8cad-4aed-a73a-0f75fdf29495\">\n",
              "    <div class=\"colab-df-container\">\n",
              "      <div>\n",
              "<style scoped>\n",
              "    .dataframe tbody tr th:only-of-type {\n",
              "        vertical-align: middle;\n",
              "    }\n",
              "\n",
              "    .dataframe tbody tr th {\n",
              "        vertical-align: top;\n",
              "    }\n",
              "\n",
              "    .dataframe thead th {\n",
              "        text-align: right;\n",
              "    }\n",
              "</style>\n",
              "<table border=\"1\" class=\"dataframe\">\n",
              "  <thead>\n",
              "    <tr style=\"text-align: right;\">\n",
              "      <th></th>\n",
              "      <th>Ano</th>\n",
              "      <th>Mês</th>\n",
              "      <th>UF</th>\n",
              "      <th>IPI - FUMO</th>\n",
              "      <th>IPI - BEBIDAS</th>\n",
              "      <th>IPI - AUTOMÓVEIS</th>\n",
              "    </tr>\n",
              "  </thead>\n",
              "  <tbody>\n",
              "    <tr>\n",
              "      <th>7477</th>\n",
              "      <td>2023</td>\n",
              "      <td>Janeiro</td>\n",
              "      <td>SP</td>\n",
              "      <td>232898116</td>\n",
              "      <td>5338086958</td>\n",
              "      <td>1008136269</td>\n",
              "    </tr>\n",
              "    <tr>\n",
              "      <th>7486</th>\n",
              "      <td>2023</td>\n",
              "      <td>Fevereiro</td>\n",
              "      <td>ES</td>\n",
              "      <td>0</td>\n",
              "      <td>186639518</td>\n",
              "      <td>1532793326</td>\n",
              "    </tr>\n",
              "    <tr>\n",
              "      <th>7489</th>\n",
              "      <td>2023</td>\n",
              "      <td>Fevereiro</td>\n",
              "      <td>MG</td>\n",
              "      <td>8229438</td>\n",
              "      <td>3841961392</td>\n",
              "      <td>1139093</td>\n",
              "    </tr>\n",
              "    <tr>\n",
              "      <th>7497</th>\n",
              "      <td>2023</td>\n",
              "      <td>Fevereiro</td>\n",
              "      <td>RJ</td>\n",
              "      <td>59746464</td>\n",
              "      <td>1569760355</td>\n",
              "      <td>1765789276</td>\n",
              "    </tr>\n",
              "    <tr>\n",
              "      <th>7504</th>\n",
              "      <td>2023</td>\n",
              "      <td>Fevereiro</td>\n",
              "      <td>SP</td>\n",
              "      <td>201563864</td>\n",
              "      <td>3814353816</td>\n",
              "      <td>1363010272</td>\n",
              "    </tr>\n",
              "  </tbody>\n",
              "</table>\n",
              "</div>\n",
              "      <button class=\"colab-df-convert\" onclick=\"convertToInteractive('df-d7b59dd7-8cad-4aed-a73a-0f75fdf29495')\"\n",
              "              title=\"Convert this dataframe to an interactive table.\"\n",
              "              style=\"display:none;\">\n",
              "        \n",
              "  <svg xmlns=\"http://www.w3.org/2000/svg\" height=\"24px\"viewBox=\"0 0 24 24\"\n",
              "       width=\"24px\">\n",
              "    <path d=\"M0 0h24v24H0V0z\" fill=\"none\"/>\n",
              "    <path d=\"M18.56 5.44l.94 2.06.94-2.06 2.06-.94-2.06-.94-.94-2.06-.94 2.06-2.06.94zm-11 1L8.5 8.5l.94-2.06 2.06-.94-2.06-.94L8.5 2.5l-.94 2.06-2.06.94zm10 10l.94 2.06.94-2.06 2.06-.94-2.06-.94-.94-2.06-.94 2.06-2.06.94z\"/><path d=\"M17.41 7.96l-1.37-1.37c-.4-.4-.92-.59-1.43-.59-.52 0-1.04.2-1.43.59L10.3 9.45l-7.72 7.72c-.78.78-.78 2.05 0 2.83L4 21.41c.39.39.9.59 1.41.59.51 0 1.02-.2 1.41-.59l7.78-7.78 2.81-2.81c.8-.78.8-2.07 0-2.86zM5.41 20L4 18.59l7.72-7.72 1.47 1.35L5.41 20z\"/>\n",
              "  </svg>\n",
              "      </button>\n",
              "      \n",
              "  <style>\n",
              "    .colab-df-container {\n",
              "      display:flex;\n",
              "      flex-wrap:wrap;\n",
              "      gap: 12px;\n",
              "    }\n",
              "\n",
              "    .colab-df-convert {\n",
              "      background-color: #E8F0FE;\n",
              "      border: none;\n",
              "      border-radius: 50%;\n",
              "      cursor: pointer;\n",
              "      display: none;\n",
              "      fill: #1967D2;\n",
              "      height: 32px;\n",
              "      padding: 0 0 0 0;\n",
              "      width: 32px;\n",
              "    }\n",
              "\n",
              "    .colab-df-convert:hover {\n",
              "      background-color: #E2EBFA;\n",
              "      box-shadow: 0px 1px 2px rgba(60, 64, 67, 0.3), 0px 1px 3px 1px rgba(60, 64, 67, 0.15);\n",
              "      fill: #174EA6;\n",
              "    }\n",
              "\n",
              "    [theme=dark] .colab-df-convert {\n",
              "      background-color: #3B4455;\n",
              "      fill: #D2E3FC;\n",
              "    }\n",
              "\n",
              "    [theme=dark] .colab-df-convert:hover {\n",
              "      background-color: #434B5C;\n",
              "      box-shadow: 0px 1px 3px 1px rgba(0, 0, 0, 0.15);\n",
              "      filter: drop-shadow(0px 1px 2px rgba(0, 0, 0, 0.3));\n",
              "      fill: #FFFFFF;\n",
              "    }\n",
              "  </style>\n",
              "\n",
              "      <script>\n",
              "        const buttonEl =\n",
              "          document.querySelector('#df-d7b59dd7-8cad-4aed-a73a-0f75fdf29495 button.colab-df-convert');\n",
              "        buttonEl.style.display =\n",
              "          google.colab.kernel.accessAllowed ? 'block' : 'none';\n",
              "\n",
              "        async function convertToInteractive(key) {\n",
              "          const element = document.querySelector('#df-d7b59dd7-8cad-4aed-a73a-0f75fdf29495');\n",
              "          const dataTable =\n",
              "            await google.colab.kernel.invokeFunction('convertToInteractive',\n",
              "                                                     [key], {});\n",
              "          if (!dataTable) return;\n",
              "\n",
              "          const docLinkHtml = 'Like what you see? Visit the ' +\n",
              "            '<a target=\"_blank\" href=https://colab.research.google.com/notebooks/data_table.ipynb>data table notebook</a>'\n",
              "            + ' to learn more about interactive tables.';\n",
              "          element.innerHTML = '';\n",
              "          dataTable['output_type'] = 'display_data';\n",
              "          await google.colab.output.renderOutput(dataTable, element);\n",
              "          const docLink = document.createElement('div');\n",
              "          docLink.innerHTML = docLinkHtml;\n",
              "          element.appendChild(docLink);\n",
              "        }\n",
              "      </script>\n",
              "    </div>\n",
              "  </div>\n",
              "  "
            ]
          },
          "metadata": {},
          "execution_count": 15
        }
      ]
    },
    {
      "cell_type": "code",
      "source": [
        "# Visualizacao do resumo estatistico dos atributos com valores numericos\n",
        "ipi_sud.describe()"
      ],
      "metadata": {
        "colab": {
          "base_uri": "https://localhost:8080/",
          "height": 300
        },
        "id": "H9jkEO2NAF9Q",
        "outputId": "6134388b-173d-40e4-ea77-94e2d6529a52"
      },
      "execution_count": 16,
      "outputs": [
        {
          "output_type": "execute_result",
          "data": {
            "text/plain": [
              "               Ano    IPI - FUMO  IPI - BEBIDAS  IPI - AUTOMÓVEIS\n",
              "count  1112.000000  1.112000e+03   1.112000e+03      1.112000e+03\n",
              "mean   2011.086331  5.972009e+08   1.413973e+09      1.115064e+09\n",
              "std       6.689710  1.402919e+09   2.191027e+09      1.777358e+09\n",
              "min    2000.000000 -4.329186e+08   2.040800e+04     -5.424603e+07\n",
              "25%    2005.000000  3.042325e+06   2.143294e+07      1.596950e+07\n",
              "50%    2011.000000  2.452370e+07   1.126126e+08      1.421687e+08\n",
              "75%    2017.000000  1.681365e+08   2.125644e+09      1.612600e+09\n",
              "max    2023.000000  8.766459e+09   9.945420e+09      9.967381e+09"
            ],
            "text/html": [
              "\n",
              "  <div id=\"df-5cce15dc-1619-4519-84ab-b1bad8706d67\">\n",
              "    <div class=\"colab-df-container\">\n",
              "      <div>\n",
              "<style scoped>\n",
              "    .dataframe tbody tr th:only-of-type {\n",
              "        vertical-align: middle;\n",
              "    }\n",
              "\n",
              "    .dataframe tbody tr th {\n",
              "        vertical-align: top;\n",
              "    }\n",
              "\n",
              "    .dataframe thead th {\n",
              "        text-align: right;\n",
              "    }\n",
              "</style>\n",
              "<table border=\"1\" class=\"dataframe\">\n",
              "  <thead>\n",
              "    <tr style=\"text-align: right;\">\n",
              "      <th></th>\n",
              "      <th>Ano</th>\n",
              "      <th>IPI - FUMO</th>\n",
              "      <th>IPI - BEBIDAS</th>\n",
              "      <th>IPI - AUTOMÓVEIS</th>\n",
              "    </tr>\n",
              "  </thead>\n",
              "  <tbody>\n",
              "    <tr>\n",
              "      <th>count</th>\n",
              "      <td>1112.000000</td>\n",
              "      <td>1.112000e+03</td>\n",
              "      <td>1.112000e+03</td>\n",
              "      <td>1.112000e+03</td>\n",
              "    </tr>\n",
              "    <tr>\n",
              "      <th>mean</th>\n",
              "      <td>2011.086331</td>\n",
              "      <td>5.972009e+08</td>\n",
              "      <td>1.413973e+09</td>\n",
              "      <td>1.115064e+09</td>\n",
              "    </tr>\n",
              "    <tr>\n",
              "      <th>std</th>\n",
              "      <td>6.689710</td>\n",
              "      <td>1.402919e+09</td>\n",
              "      <td>2.191027e+09</td>\n",
              "      <td>1.777358e+09</td>\n",
              "    </tr>\n",
              "    <tr>\n",
              "      <th>min</th>\n",
              "      <td>2000.000000</td>\n",
              "      <td>-4.329186e+08</td>\n",
              "      <td>2.040800e+04</td>\n",
              "      <td>-5.424603e+07</td>\n",
              "    </tr>\n",
              "    <tr>\n",
              "      <th>25%</th>\n",
              "      <td>2005.000000</td>\n",
              "      <td>3.042325e+06</td>\n",
              "      <td>2.143294e+07</td>\n",
              "      <td>1.596950e+07</td>\n",
              "    </tr>\n",
              "    <tr>\n",
              "      <th>50%</th>\n",
              "      <td>2011.000000</td>\n",
              "      <td>2.452370e+07</td>\n",
              "      <td>1.126126e+08</td>\n",
              "      <td>1.421687e+08</td>\n",
              "    </tr>\n",
              "    <tr>\n",
              "      <th>75%</th>\n",
              "      <td>2017.000000</td>\n",
              "      <td>1.681365e+08</td>\n",
              "      <td>2.125644e+09</td>\n",
              "      <td>1.612600e+09</td>\n",
              "    </tr>\n",
              "    <tr>\n",
              "      <th>max</th>\n",
              "      <td>2023.000000</td>\n",
              "      <td>8.766459e+09</td>\n",
              "      <td>9.945420e+09</td>\n",
              "      <td>9.967381e+09</td>\n",
              "    </tr>\n",
              "  </tbody>\n",
              "</table>\n",
              "</div>\n",
              "      <button class=\"colab-df-convert\" onclick=\"convertToInteractive('df-5cce15dc-1619-4519-84ab-b1bad8706d67')\"\n",
              "              title=\"Convert this dataframe to an interactive table.\"\n",
              "              style=\"display:none;\">\n",
              "        \n",
              "  <svg xmlns=\"http://www.w3.org/2000/svg\" height=\"24px\"viewBox=\"0 0 24 24\"\n",
              "       width=\"24px\">\n",
              "    <path d=\"M0 0h24v24H0V0z\" fill=\"none\"/>\n",
              "    <path d=\"M18.56 5.44l.94 2.06.94-2.06 2.06-.94-2.06-.94-.94-2.06-.94 2.06-2.06.94zm-11 1L8.5 8.5l.94-2.06 2.06-.94-2.06-.94L8.5 2.5l-.94 2.06-2.06.94zm10 10l.94 2.06.94-2.06 2.06-.94-2.06-.94-.94-2.06-.94 2.06-2.06.94z\"/><path d=\"M17.41 7.96l-1.37-1.37c-.4-.4-.92-.59-1.43-.59-.52 0-1.04.2-1.43.59L10.3 9.45l-7.72 7.72c-.78.78-.78 2.05 0 2.83L4 21.41c.39.39.9.59 1.41.59.51 0 1.02-.2 1.41-.59l7.78-7.78 2.81-2.81c.8-.78.8-2.07 0-2.86zM5.41 20L4 18.59l7.72-7.72 1.47 1.35L5.41 20z\"/>\n",
              "  </svg>\n",
              "      </button>\n",
              "      \n",
              "  <style>\n",
              "    .colab-df-container {\n",
              "      display:flex;\n",
              "      flex-wrap:wrap;\n",
              "      gap: 12px;\n",
              "    }\n",
              "\n",
              "    .colab-df-convert {\n",
              "      background-color: #E8F0FE;\n",
              "      border: none;\n",
              "      border-radius: 50%;\n",
              "      cursor: pointer;\n",
              "      display: none;\n",
              "      fill: #1967D2;\n",
              "      height: 32px;\n",
              "      padding: 0 0 0 0;\n",
              "      width: 32px;\n",
              "    }\n",
              "\n",
              "    .colab-df-convert:hover {\n",
              "      background-color: #E2EBFA;\n",
              "      box-shadow: 0px 1px 2px rgba(60, 64, 67, 0.3), 0px 1px 3px 1px rgba(60, 64, 67, 0.15);\n",
              "      fill: #174EA6;\n",
              "    }\n",
              "\n",
              "    [theme=dark] .colab-df-convert {\n",
              "      background-color: #3B4455;\n",
              "      fill: #D2E3FC;\n",
              "    }\n",
              "\n",
              "    [theme=dark] .colab-df-convert:hover {\n",
              "      background-color: #434B5C;\n",
              "      box-shadow: 0px 1px 3px 1px rgba(0, 0, 0, 0.15);\n",
              "      filter: drop-shadow(0px 1px 2px rgba(0, 0, 0, 0.3));\n",
              "      fill: #FFFFFF;\n",
              "    }\n",
              "  </style>\n",
              "\n",
              "      <script>\n",
              "        const buttonEl =\n",
              "          document.querySelector('#df-5cce15dc-1619-4519-84ab-b1bad8706d67 button.colab-df-convert');\n",
              "        buttonEl.style.display =\n",
              "          google.colab.kernel.accessAllowed ? 'block' : 'none';\n",
              "\n",
              "        async function convertToInteractive(key) {\n",
              "          const element = document.querySelector('#df-5cce15dc-1619-4519-84ab-b1bad8706d67');\n",
              "          const dataTable =\n",
              "            await google.colab.kernel.invokeFunction('convertToInteractive',\n",
              "                                                     [key], {});\n",
              "          if (!dataTable) return;\n",
              "\n",
              "          const docLinkHtml = 'Like what you see? Visit the ' +\n",
              "            '<a target=\"_blank\" href=https://colab.research.google.com/notebooks/data_table.ipynb>data table notebook</a>'\n",
              "            + ' to learn more about interactive tables.';\n",
              "          element.innerHTML = '';\n",
              "          dataTable['output_type'] = 'display_data';\n",
              "          await google.colab.output.renderOutput(dataTable, element);\n",
              "          const docLink = document.createElement('div');\n",
              "          docLink.innerHTML = docLinkHtml;\n",
              "          element.appendChild(docLink);\n",
              "        }\n",
              "      </script>\n",
              "    </div>\n",
              "  </div>\n",
              "  "
            ]
          },
          "metadata": {},
          "execution_count": 16
        }
      ]
    },
    {
      "cell_type": "markdown",
      "source": [
        "*Com o resumo estatístico verifica-se: (1) a maior média se refere ao IPI - Bebidas; (2) o maior desvio padrao acontece também no IPI - Bebidas; (3) o valor minimo e máximo encontram-se no IPI - Automóveis; (4) verifica-se também que o IPI - Fumo e o IPI - Automóveis tiveram como valor mínimo resultado negativo, isso acontece quando ocorrem compensaçoes e deducoes maiores que a arredacadacao.*"
      ],
      "metadata": {
        "id": "Dns8KnI1AiSR"
      }
    },
    {
      "cell_type": "markdown",
      "source": [
        "**7. Visualizacoes.**"
      ],
      "metadata": {
        "id": "AJznUk4BoMe3"
      }
    },
    {
      "cell_type": "code",
      "source": [
        "# Plotando o gráfico Scatter Plot com Seaborn (IPI - FUMO)\n",
        "plt.figure(figsize = (10,6))\n",
        "sns.scatterplot(x='Ano', y='IPI - FUMO', data=ipi_sud);"
      ],
      "metadata": {
        "colab": {
          "base_uri": "https://localhost:8080/",
          "height": 557
        },
        "id": "HEk4JAD5oUh_",
        "outputId": "7cb71f3a-9db7-4db5-e317-504023606453"
      },
      "execution_count": 30,
      "outputs": [
        {
          "output_type": "display_data",
          "data": {
            "text/plain": [
              "<Figure size 1000x600 with 1 Axes>"
            ],
            "image/png": "[encoded data removed]"
          },
          "metadata": {}
        }
      ]
    },
    {
      "cell_type": "markdown",
      "source": [
        "*O gráfico demonstra que houve um aumento substancial de arrecadacao no período da crise financeira da economia global de 2008, em 2010 houve uma reducao e apos 2012 ocorreu uma certa estabilizacao na arrecadacao do imposto.*"
      ],
      "metadata": {
        "id": "M-J94GPHtKyE"
      }
    },
    {
      "cell_type": "code",
      "source": [
        "# Plotando o gráfico Scatter Plot com Seaborn (IPI - BEBIDAS)\n",
        "plt.figure(figsize = (10,6))\n",
        "sns.scatterplot(x='Ano', y='IPI - BEBIDAS', data=ipi_sud);"
      ],
      "metadata": {
        "colab": {
          "base_uri": "https://localhost:8080/",
          "height": 557
        },
        "id": "7rTYRNiiqpd-",
        "outputId": "b70dee1b-fa5d-4cbb-dace-151c9d1bd5b1"
      },
      "execution_count": 31,
      "outputs": [
        {
          "output_type": "display_data",
          "data": {
            "text/plain": [
              "<Figure size 1000x600 with 1 Axes>"
            ],
            "image/png": "[encoded data removed]"
          },
          "metadata": {}
        }
      ]
    },
    {
      "cell_type": "markdown",
      "source": [
        "*Da mesma forma que o gráfico anterior, houve um aumento muito relevante na arredacao do imposto na crise de 2008, tendencia que se manteve nos demais anos, com excecao do ano de 2014, onde houve uma reducao drástica devido a crise politica e economica brasileira, escandalos de corrupcao, operacao lava-jato, queda do PIB e aumento do desemprego.*"
      ],
      "metadata": {
        "id": "3Wd2ytsMvN6M"
      }
    },
    {
      "cell_type": "code",
      "source": [
        "# Plotando o gráfico Scatter Plot com Seaborn (IPI - AUTOMÓVEIS)\n",
        "plt.figure(figsize = (10,6))\n",
        "sns.scatterplot(x='Ano', y='IPI - AUTOMÓVEIS', data=ipi_sud );"
      ],
      "metadata": {
        "colab": {
          "base_uri": "https://localhost:8080/",
          "height": 557
        },
        "id": "RRO5s0qzv5zA",
        "outputId": "c6608f51-dd40-45bb-c043-0a01e3c6ad1d"
      },
      "execution_count": 32,
      "outputs": [
        {
          "output_type": "display_data",
          "data": {
            "text/plain": [
              "<Figure size 1000x600 with 1 Axes>"
            ],
            "image/png": "[encoded data removed]"
          },
          "metadata": {}
        }
      ]
    },
    {
      "cell_type": "markdown",
      "source": [
        "Seguindo a mesma rota dos impostos sobre fumo e bebidas, houve um aumento elevado de arrecadacao na crise financeira mundial de 2008, e isso se manteve nos demais anos, com excecao do ano de 2014."
      ],
      "metadata": {
        "id": "mWNeB1y5wp8X"
      }
    }
  ]
}